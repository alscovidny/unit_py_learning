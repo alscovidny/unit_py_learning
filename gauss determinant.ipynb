{
 "cells": [
  {
   "cell_type": "code",
   "execution_count": 160,
   "id": "811ac2d2",
   "metadata": {},
   "outputs": [
    {
     "data": {
      "text/plain": [
       "-6364.0000000000055"
      ]
     },
     "execution_count": 160,
     "metadata": {},
     "output_type": "execute_result"
    }
   ],
   "source": [
    "import numpy as np\n",
    "\n",
    "\n",
    "b = np.array(\n",
    "    [\n",
    "        [0,2,3,6,8],\n",
    "        [3,7,4,10,2],\n",
    "        [1,8,1,9,1],\n",
    "        [0,2,5,4,2],\n",
    "        [14,5,1,2,4]\n",
    "    ], dtype='float64'\n",
    ")\n",
    "\n",
    "np.linalg.det(b)"
   ]
  },
  {
   "cell_type": "code",
   "execution_count": 161,
   "id": "7a135ad8",
   "metadata": {},
   "outputs": [
    {
     "data": {
      "text/plain": [
       "-6363.999999999997"
      ]
     },
     "execution_count": 161,
     "metadata": {},
     "output_type": "execute_result"
    }
   ],
   "source": [
    "# Gauss\n",
    "\n",
    "def gauss_det(a):\n",
    "    a = a.copy()\n",
    "    if a.shape[0] != a.shape[1]:\n",
    "        return None\n",
    "    else:\n",
    "        N = a.shape[0]\n",
    "\n",
    "    perm = 0\n",
    "    for j in range(N):\n",
    "        \n",
    "        # перестановка, если ajj = 0:\n",
    "        if a[j][j] == 0:\n",
    "            for i in range(j+1,N):\n",
    "                if a[i][j] != 0:\n",
    "                    a[[i,j]] = a[[j,i]]\n",
    "                    perm+=1\n",
    "                    break\n",
    "            else:\n",
    "                return 0 # окончание выполнения кода\n",
    "                break\n",
    "                \n",
    "        for k in range(j+1, N): # смотрим строки от j+1 до N\n",
    "            coef = a[k][j]/a[j][j]\n",
    "            for i in range(N):\n",
    "                a[k][i] = a[k][i] - coef * a[j][i]\n",
    "\n",
    "    det = 1 if perm//2 or perm==0 else -1\n",
    "\n",
    "    for j in range(N):\n",
    "        det = det*a[j][j]\n",
    "    return det\n",
    "\n",
    "gauss_det(b)"
   ]
  },
  {
   "cell_type": "code",
   "execution_count": null,
   "id": "20541251",
   "metadata": {},
   "outputs": [],
   "source": []
  },
  {
   "cell_type": "code",
   "execution_count": null,
   "id": "49ed383e",
   "metadata": {},
   "outputs": [],
   "source": []
  }
 ],
 "metadata": {
  "kernelspec": {
   "display_name": "Python 3 (ipykernel)",
   "language": "python",
   "name": "python3"
  },
  "language_info": {
   "codemirror_mode": {
    "name": "ipython",
    "version": 3
   },
   "file_extension": ".py",
   "mimetype": "text/x-python",
   "name": "python",
   "nbconvert_exporter": "python",
   "pygments_lexer": "ipython3",
   "version": "3.8.9"
  }
 },
 "nbformat": 4,
 "nbformat_minor": 5
}
