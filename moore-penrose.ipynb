{
 "cells": [
  {
   "cell_type": "code",
   "execution_count": 1,
   "id": "64093d5d",
   "metadata": {},
   "outputs": [
    {
     "data": {
      "text/plain": [
       "True"
      ]
     },
     "execution_count": 1,
     "metadata": {},
     "output_type": "execute_result"
    }
   ],
   "source": [
    "#решение методом псевдообратной матрицы\n",
    "\n",
    "import numpy as np\n",
    "import pandas as pd\n",
    "from functools import reduce\n",
    "\n",
    "A = np.array(\n",
    "    [\n",
    "        [1, 2, 4],\n",
    "        [3, 5, 6],\n",
    "        [9, 8, 7]\n",
    "    ]\n",
    ")\n",
    "\n",
    "b = np.matrix(\n",
    "    [\n",
    "        [4],\n",
    "        [7],\n",
    "        [17]\n",
    "    ]\n",
    "\n",
    ")\n",
    "\n",
    "ACCURACY = 8 \n",
    "\n",
    "res_1 = np.round(np.linalg.inv(A.T@A)@A.T@b, decimals = ACCURACY)\n",
    "res_2 = np.around(np.linalg.solve(A, b), decimals = ACCURACY)\n",
    "\n",
    "# res_1 = np.linalg.inv(A.T@A)@A.T@b\n",
    "# np.linalg.solve(A, b), res_1\n",
    "\n",
    "bool(reduce(lambda x,y : x & y, res_2 == res_1))\n",
    "# print(type(res_1), type(res_2))"
   ]
  },
  {
   "cell_type": "code",
   "execution_count": 2,
   "id": "2b88fbde",
   "metadata": {},
   "outputs": [],
   "source": [
    "# решение через LU-разложение\n",
    "\n",
    "A = np.array(\n",
    "    [\n",
    "        [1, 2, 4],\n",
    "        [3, 5, 6],\n",
    "        [9, 8, 7]\n",
    "    ]\n",
    ")\n",
    "\n",
    "b = np.matrix(\n",
    "    [\n",
    "        [4],\n",
    "        [7],\n",
    "        [17]\n",
    "    ]\n",
    ")\n",
    "\n",
    "N = min(A.shape)\n",
    "\n",
    "L = np.eye(N) # диагональная единичная матрица\n",
    "U = np.zeros(A.shape)\n",
    "\n",
    "for i in range(N):\n",
    "    for j in range(N):\n",
    "        if i <= j:\n",
    "            U[i][j] = A[i][j] - sum([L[i][k]*U[k][j] for k in range(i)])\n",
    "        if i > j:\n",
    "            L[i][j] = (A[i][j] - sum([L[i][k]*U[k][j] for k in range(j)]))/U[j][j]\n",
    "            \n",
    "# 1.решение Ly = b методом прямой подстановки\n",
    "\n",
    "y = np.zeros((N,1))\n",
    "\n",
    "for i in range(N):\n",
    "    if i == 0:\n",
    "        y[0] = b[0]/L[0][0]\n",
    "    else:\n",
    "        sum = b[i]\n",
    "        for k in range(i):\n",
    "            sum = sum - L[i][k]*y[k]\n",
    "        y[i] = sum/L[i][i]\n",
    "\n",
    "# 2.решение Ux = y методом обратной подстановки\n",
    "\n",
    "x = np.zeros((N,1))\n",
    "\n",
    "res_3 = np.zeros((N,1))\n",
    "\n",
    "for j in range(N-1,-1,-1):\n",
    "    if j == N-1:\n",
    "        x[j] = y[j]/U[j][j]\n",
    "    else:\n",
    "        sum = y[j]\n",
    "        for k in range(N-1,j,-1):\n",
    "            sum = sum - U[j][k]*x[k]\n",
    "        x[j] = sum/U[j][j]\n",
    "        \n",
    "res_3 = np.around(x,decimals = 6)"
   ]
  },
  {
   "cell_type": "code",
   "execution_count": null,
   "id": "0578867d",
   "metadata": {},
   "outputs": [],
   "source": []
  }
 ],
 "metadata": {
  "kernelspec": {
   "display_name": "Python 3 (ipykernel)",
   "language": "python",
   "name": "python3"
  },
  "language_info": {
   "codemirror_mode": {
    "name": "ipython",
    "version": 3
   },
   "file_extension": ".py",
   "mimetype": "text/x-python",
   "name": "python",
   "nbconvert_exporter": "python",
   "pygments_lexer": "ipython3",
   "version": "3.8.9"
  }
 },
 "nbformat": 4,
 "nbformat_minor": 5
}
